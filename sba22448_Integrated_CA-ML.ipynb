{
 "cells": [
  {
   "cell_type": "code",
   "execution_count": 1,
   "id": "f41d2db9",
   "metadata": {},
   "outputs": [],
   "source": [
    "import pandas as pd\n",
    "import numpy as np\n",
    "import matplotlib as plt"
   ]
  },
  {
   "cell_type": "code",
   "execution_count": 2,
   "id": "1316593a",
   "metadata": {},
   "outputs": [
    {
     "data": {
      "text/html": [
       "<div>\n",
       "<style scoped>\n",
       "    .dataframe tbody tr th:only-of-type {\n",
       "        vertical-align: middle;\n",
       "    }\n",
       "\n",
       "    .dataframe tbody tr th {\n",
       "        vertical-align: top;\n",
       "    }\n",
       "\n",
       "    .dataframe thead th {\n",
       "        text-align: right;\n",
       "    }\n",
       "</style>\n",
       "<table border=\"1\" class=\"dataframe\">\n",
       "  <thead>\n",
       "    <tr style=\"text-align: right;\">\n",
       "      <th></th>\n",
       "      <th>STATISTIC</th>\n",
       "      <th>Statistic Label</th>\n",
       "      <th>TLIST(Q1)</th>\n",
       "      <th>Quarter</th>\n",
       "      <th>C02741V03309</th>\n",
       "      <th>Sub Sector</th>\n",
       "      <th>UNIT</th>\n",
       "      <th>VALUE</th>\n",
       "    </tr>\n",
       "  </thead>\n",
       "  <tbody>\n",
       "    <tr>\n",
       "      <th>0</th>\n",
       "      <td>EHQ10C01</td>\n",
       "      <td>Employment</td>\n",
       "      <td>20081</td>\n",
       "      <td>2008Q1</td>\n",
       "      <td>01</td>\n",
       "      <td>Civil service</td>\n",
       "      <td>Number</td>\n",
       "      <td>41700.00</td>\n",
       "    </tr>\n",
       "    <tr>\n",
       "      <th>1</th>\n",
       "      <td>EHQ10C01</td>\n",
       "      <td>Employment</td>\n",
       "      <td>20081</td>\n",
       "      <td>2008Q1</td>\n",
       "      <td>02</td>\n",
       "      <td>Defence</td>\n",
       "      <td>Number</td>\n",
       "      <td>11200.00</td>\n",
       "    </tr>\n",
       "    <tr>\n",
       "      <th>2</th>\n",
       "      <td>EHQ10C01</td>\n",
       "      <td>Employment</td>\n",
       "      <td>20081</td>\n",
       "      <td>2008Q1</td>\n",
       "      <td>03</td>\n",
       "      <td>Garda Siochana</td>\n",
       "      <td>Number</td>\n",
       "      <td>14900.00</td>\n",
       "    </tr>\n",
       "    <tr>\n",
       "      <th>3</th>\n",
       "      <td>EHQ10C01</td>\n",
       "      <td>Employment</td>\n",
       "      <td>20081</td>\n",
       "      <td>2008Q1</td>\n",
       "      <td>04</td>\n",
       "      <td>Education</td>\n",
       "      <td>Number</td>\n",
       "      <td>116100.00</td>\n",
       "    </tr>\n",
       "    <tr>\n",
       "      <th>4</th>\n",
       "      <td>EHQ10C01</td>\n",
       "      <td>Employment</td>\n",
       "      <td>20081</td>\n",
       "      <td>2008Q1</td>\n",
       "      <td>05</td>\n",
       "      <td>Regional bodies</td>\n",
       "      <td>Number</td>\n",
       "      <td>38900.00</td>\n",
       "    </tr>\n",
       "    <tr>\n",
       "      <th>...</th>\n",
       "      <td>...</td>\n",
       "      <td>...</td>\n",
       "      <td>...</td>\n",
       "      <td>...</td>\n",
       "      <td>...</td>\n",
       "      <td>...</td>\n",
       "      <td>...</td>\n",
       "      <td>...</td>\n",
       "    </tr>\n",
       "    <tr>\n",
       "      <th>5363</th>\n",
       "      <td>EHQ10C08</td>\n",
       "      <td>Average hourly total labour costs</td>\n",
       "      <td>20231</td>\n",
       "      <td>2023Q1</td>\n",
       "      <td>07</td>\n",
       "      <td>Semi-State companies</td>\n",
       "      <td>Euro</td>\n",
       "      <td>37.35</td>\n",
       "    </tr>\n",
       "    <tr>\n",
       "      <th>5364</th>\n",
       "      <td>EHQ10C08</td>\n",
       "      <td>Average hourly total labour costs</td>\n",
       "      <td>20231</td>\n",
       "      <td>2023Q1</td>\n",
       "      <td>09</td>\n",
       "      <td>Commercial Semi-State companies</td>\n",
       "      <td>Euro</td>\n",
       "      <td>37.74</td>\n",
       "    </tr>\n",
       "    <tr>\n",
       "      <th>5365</th>\n",
       "      <td>EHQ10C08</td>\n",
       "      <td>Average hourly total labour costs</td>\n",
       "      <td>20231</td>\n",
       "      <td>2023Q1</td>\n",
       "      <td>10</td>\n",
       "      <td>Non commercial Semi-State companies</td>\n",
       "      <td>Euro</td>\n",
       "      <td>36.47</td>\n",
       "    </tr>\n",
       "    <tr>\n",
       "      <th>5366</th>\n",
       "      <td>EHQ10C08</td>\n",
       "      <td>Average hourly total labour costs</td>\n",
       "      <td>20231</td>\n",
       "      <td>2023Q1</td>\n",
       "      <td>-</td>\n",
       "      <td>Total Public Sector including Semi State bodies</td>\n",
       "      <td>Euro</td>\n",
       "      <td>37.64</td>\n",
       "    </tr>\n",
       "    <tr>\n",
       "      <th>5367</th>\n",
       "      <td>EHQ10C08</td>\n",
       "      <td>Average hourly total labour costs</td>\n",
       "      <td>20231</td>\n",
       "      <td>2023Q1</td>\n",
       "      <td>08</td>\n",
       "      <td>Total Public Sector excluding Semi State bodies</td>\n",
       "      <td>Euro</td>\n",
       "      <td>37.68</td>\n",
       "    </tr>\n",
       "  </tbody>\n",
       "</table>\n",
       "<p>5368 rows × 8 columns</p>\n",
       "</div>"
      ],
      "text/plain": [
       "     STATISTIC                    Statistic Label  TLIST(Q1) Quarter  \\\n",
       "0     EHQ10C01                         Employment      20081  2008Q1   \n",
       "1     EHQ10C01                         Employment      20081  2008Q1   \n",
       "2     EHQ10C01                         Employment      20081  2008Q1   \n",
       "3     EHQ10C01                         Employment      20081  2008Q1   \n",
       "4     EHQ10C01                         Employment      20081  2008Q1   \n",
       "...        ...                                ...        ...     ...   \n",
       "5363  EHQ10C08  Average hourly total labour costs      20231  2023Q1   \n",
       "5364  EHQ10C08  Average hourly total labour costs      20231  2023Q1   \n",
       "5365  EHQ10C08  Average hourly total labour costs      20231  2023Q1   \n",
       "5366  EHQ10C08  Average hourly total labour costs      20231  2023Q1   \n",
       "5367  EHQ10C08  Average hourly total labour costs      20231  2023Q1   \n",
       "\n",
       "     C02741V03309                                       Sub Sector    UNIT  \\\n",
       "0              01                                    Civil service  Number   \n",
       "1              02                                          Defence  Number   \n",
       "2              03                                   Garda Siochana  Number   \n",
       "3              04                                        Education  Number   \n",
       "4              05                                  Regional bodies  Number   \n",
       "...           ...                                              ...     ...   \n",
       "5363           07                             Semi-State companies    Euro   \n",
       "5364           09                  Commercial Semi-State companies    Euro   \n",
       "5365           10              Non commercial Semi-State companies    Euro   \n",
       "5366            -  Total Public Sector including Semi State bodies    Euro   \n",
       "5367           08  Total Public Sector excluding Semi State bodies    Euro   \n",
       "\n",
       "          VALUE  \n",
       "0      41700.00  \n",
       "1      11200.00  \n",
       "2      14900.00  \n",
       "3     116100.00  \n",
       "4      38900.00  \n",
       "...         ...  \n",
       "5363      37.35  \n",
       "5364      37.74  \n",
       "5365      36.47  \n",
       "5366      37.64  \n",
       "5367      37.68  \n",
       "\n",
       "[5368 rows x 8 columns]"
      ]
     },
     "execution_count": 2,
     "metadata": {},
     "output_type": "execute_result"
    }
   ],
   "source": [
    "df = pd.read_csv('https://ws.cso.ie/public/api.restful/PxStat.Data.Cube_API.ReadDataset/EHQ10/CSV/1.0/en')\n",
    "df"
   ]
  },
  {
   "cell_type": "code",
   "execution_count": 3,
   "id": "5da94593",
   "metadata": {},
   "outputs": [
    {
     "name": "stdout",
     "output_type": "stream",
     "text": [
      "<class 'pandas.core.frame.DataFrame'>\n",
      "RangeIndex: 5368 entries, 0 to 5367\n",
      "Data columns (total 8 columns):\n",
      " #   Column           Non-Null Count  Dtype  \n",
      "---  ------           --------------  -----  \n",
      " 0   STATISTIC        5368 non-null   object \n",
      " 1   Statistic Label  5368 non-null   object \n",
      " 2   TLIST(Q1)        5368 non-null   int64  \n",
      " 3   Quarter          5368 non-null   object \n",
      " 4   C02741V03309     5368 non-null   object \n",
      " 5   Sub Sector       5368 non-null   object \n",
      " 6   UNIT             5368 non-null   object \n",
      " 7   VALUE            5368 non-null   float64\n",
      "dtypes: float64(1), int64(1), object(6)\n",
      "memory usage: 335.6+ KB\n"
     ]
    }
   ],
   "source": [
    "df.info()"
   ]
  },
  {
   "cell_type": "code",
   "execution_count": 9,
   "id": "add11880",
   "metadata": {},
   "outputs": [
    {
     "data": {
      "text/plain": [
       "array(['Employment', 'Average Weekly Earnings', 'Average Hourly Earnings',\n",
       "       'Average Hourly Earnings excluding Irregular Earnings',\n",
       "       'Average Weekly Paid Hours', 'Average hourly irregular earnings',\n",
       "       'Average hourly other labour costs',\n",
       "       'Average hourly total labour costs'], dtype=object)"
      ]
     },
     "execution_count": 9,
     "metadata": {},
     "output_type": "execute_result"
    }
   ],
   "source": [
    "df['Statistic Label'].unique()"
   ]
  },
  {
   "cell_type": "code",
   "execution_count": 11,
   "id": "022e6b15",
   "metadata": {},
   "outputs": [
    {
     "data": {
      "text/plain": [
       "array([20081, 20082, 20083, 20084, 20091, 20092, 20093, 20094, 20101,\n",
       "       20102, 20103, 20104, 20111, 20112, 20113, 20114, 20121, 20122,\n",
       "       20123, 20124, 20131, 20132, 20133, 20134, 20141, 20142, 20143,\n",
       "       20144, 20151, 20152, 20153, 20154, 20161, 20162, 20163, 20164,\n",
       "       20171, 20172, 20173, 20174, 20181, 20182, 20183, 20184, 20191,\n",
       "       20192, 20193, 20194, 20201, 20202, 20203, 20204, 20211, 20212,\n",
       "       20213, 20214, 20221, 20222, 20223, 20224, 20231], dtype=int64)"
      ]
     },
     "execution_count": 11,
     "metadata": {},
     "output_type": "execute_result"
    }
   ],
   "source": [
    "df['TLIST(Q1)'].unique()"
   ]
  },
  {
   "cell_type": "code",
   "execution_count": 12,
   "id": "67abf53b",
   "metadata": {},
   "outputs": [
    {
     "data": {
      "text/plain": [
       "array(['01', '02', '03', '04', '05', '06', '07', '09', '10', '-', '08'],\n",
       "      dtype=object)"
      ]
     },
     "execution_count": 12,
     "metadata": {},
     "output_type": "execute_result"
    }
   ],
   "source": [
    "df['C02741V03309'].unique()"
   ]
  },
  {
   "cell_type": "code",
   "execution_count": 13,
   "id": "5eb5786c",
   "metadata": {},
   "outputs": [
    {
     "data": {
      "text/plain": [
       "array(['Civil service', 'Defence', 'Garda Siochana', 'Education',\n",
       "       'Regional bodies', 'Health', 'Semi-State companies',\n",
       "       'Commercial Semi-State companies',\n",
       "       'Non commercial Semi-State companies',\n",
       "       'Total Public Sector including Semi State bodies',\n",
       "       'Total Public Sector excluding Semi State bodies'], dtype=object)"
      ]
     },
     "execution_count": 13,
     "metadata": {},
     "output_type": "execute_result"
    }
   ],
   "source": [
    "df['Sub Sector'].unique()"
   ]
  },
  {
   "cell_type": "code",
   "execution_count": 34,
   "id": "741db7bc",
   "metadata": {},
   "outputs": [
    {
     "data": {
      "text/plain": [
       "array(['Number', 'Euro', 'Hours'], dtype=object)"
      ]
     },
     "execution_count": 34,
     "metadata": {},
     "output_type": "execute_result"
    }
   ],
   "source": [
    "df['UNIT'].unique()"
   ]
  },
  {
   "cell_type": "code",
   "execution_count": 35,
   "id": "b3b09ddf",
   "metadata": {},
   "outputs": [
    {
     "data": {
      "text/plain": [
       "array([4.170e+04, 1.120e+04, 1.490e+04, ..., 3.774e+01, 3.764e+01,\n",
       "       3.768e+01])"
      ]
     },
     "execution_count": 35,
     "metadata": {},
     "output_type": "execute_result"
    }
   ],
   "source": [
    "df['VALUE'].unique()"
   ]
  },
  {
   "cell_type": "code",
   "execution_count": 36,
   "id": "bfa0b8e9",
   "metadata": {},
   "outputs": [
    {
     "data": {
      "text/html": [
       "<div>\n",
       "<style scoped>\n",
       "    .dataframe tbody tr th:only-of-type {\n",
       "        vertical-align: middle;\n",
       "    }\n",
       "\n",
       "    .dataframe tbody tr th {\n",
       "        vertical-align: top;\n",
       "    }\n",
       "\n",
       "    .dataframe thead th {\n",
       "        text-align: right;\n",
       "    }\n",
       "</style>\n",
       "<table border=\"1\" class=\"dataframe\">\n",
       "  <thead>\n",
       "    <tr style=\"text-align: right;\">\n",
       "      <th></th>\n",
       "      <th>TLIST(Q1)</th>\n",
       "      <th>VALUE</th>\n",
       "    </tr>\n",
       "  </thead>\n",
       "  <tbody>\n",
       "    <tr>\n",
       "      <th>count</th>\n",
       "      <td>5368.000000</td>\n",
       "      <td>5368.000000</td>\n",
       "    </tr>\n",
       "    <tr>\n",
       "      <th>mean</th>\n",
       "      <td>20153.786885</td>\n",
       "      <td>13814.342345</td>\n",
       "    </tr>\n",
       "    <tr>\n",
       "      <th>std</th>\n",
       "      <td>44.011593</td>\n",
       "      <td>58776.196299</td>\n",
       "    </tr>\n",
       "    <tr>\n",
       "      <th>min</th>\n",
       "      <td>20081.000000</td>\n",
       "      <td>0.090000</td>\n",
       "    </tr>\n",
       "    <tr>\n",
       "      <th>25%</th>\n",
       "      <td>20114.000000</td>\n",
       "      <td>18.382500</td>\n",
       "    </tr>\n",
       "    <tr>\n",
       "      <th>50%</th>\n",
       "      <td>20153.000000</td>\n",
       "      <td>29.825000</td>\n",
       "    </tr>\n",
       "    <tr>\n",
       "      <th>75%</th>\n",
       "      <td>20192.000000</td>\n",
       "      <td>238.287500</td>\n",
       "    </tr>\n",
       "    <tr>\n",
       "      <th>max</th>\n",
       "      <td>20231.000000</td>\n",
       "      <td>450000.000000</td>\n",
       "    </tr>\n",
       "  </tbody>\n",
       "</table>\n",
       "</div>"
      ],
      "text/plain": [
       "          TLIST(Q1)          VALUE\n",
       "count   5368.000000    5368.000000\n",
       "mean   20153.786885   13814.342345\n",
       "std       44.011593   58776.196299\n",
       "min    20081.000000       0.090000\n",
       "25%    20114.000000      18.382500\n",
       "50%    20153.000000      29.825000\n",
       "75%    20192.000000     238.287500\n",
       "max    20231.000000  450000.000000"
      ]
     },
     "execution_count": 36,
     "metadata": {},
     "output_type": "execute_result"
    }
   ],
   "source": [
    "df.describe()"
   ]
  },
  {
   "cell_type": "code",
   "execution_count": 41,
   "id": "3ec415fd",
   "metadata": {},
   "outputs": [
    {
     "data": {
      "text/html": [
       "<div>\n",
       "<style scoped>\n",
       "    .dataframe tbody tr th:only-of-type {\n",
       "        vertical-align: middle;\n",
       "    }\n",
       "\n",
       "    .dataframe tbody tr th {\n",
       "        vertical-align: top;\n",
       "    }\n",
       "\n",
       "    .dataframe thead th {\n",
       "        text-align: right;\n",
       "    }\n",
       "</style>\n",
       "<table border=\"1\" class=\"dataframe\">\n",
       "  <thead>\n",
       "    <tr style=\"text-align: right;\">\n",
       "      <th></th>\n",
       "      <th>STATISTIC</th>\n",
       "      <th>Statistic Label</th>\n",
       "      <th>Quarter</th>\n",
       "      <th>C02741V03309</th>\n",
       "      <th>Sub Sector</th>\n",
       "      <th>UNIT</th>\n",
       "    </tr>\n",
       "  </thead>\n",
       "  <tbody>\n",
       "    <tr>\n",
       "      <th>count</th>\n",
       "      <td>5368</td>\n",
       "      <td>5368</td>\n",
       "      <td>5368</td>\n",
       "      <td>5368</td>\n",
       "      <td>5368</td>\n",
       "      <td>5368</td>\n",
       "    </tr>\n",
       "    <tr>\n",
       "      <th>unique</th>\n",
       "      <td>8</td>\n",
       "      <td>8</td>\n",
       "      <td>61</td>\n",
       "      <td>11</td>\n",
       "      <td>11</td>\n",
       "      <td>3</td>\n",
       "    </tr>\n",
       "    <tr>\n",
       "      <th>top</th>\n",
       "      <td>EHQ10C01</td>\n",
       "      <td>Employment</td>\n",
       "      <td>2008Q1</td>\n",
       "      <td>01</td>\n",
       "      <td>Civil service</td>\n",
       "      <td>Euro</td>\n",
       "    </tr>\n",
       "    <tr>\n",
       "      <th>freq</th>\n",
       "      <td>671</td>\n",
       "      <td>671</td>\n",
       "      <td>88</td>\n",
       "      <td>488</td>\n",
       "      <td>488</td>\n",
       "      <td>4026</td>\n",
       "    </tr>\n",
       "  </tbody>\n",
       "</table>\n",
       "</div>"
      ],
      "text/plain": [
       "       STATISTIC Statistic Label Quarter C02741V03309     Sub Sector  UNIT\n",
       "count       5368            5368    5368         5368           5368  5368\n",
       "unique         8               8      61           11             11     3\n",
       "top     EHQ10C01      Employment  2008Q1           01  Civil service  Euro\n",
       "freq         671             671      88          488            488  4026"
      ]
     },
     "execution_count": 41,
     "metadata": {},
     "output_type": "execute_result"
    }
   ],
   "source": [
    "df.describe(include='object')"
   ]
  },
  {
   "cell_type": "code",
   "execution_count": 32,
   "id": "ea6c06f6",
   "metadata": {},
   "outputs": [
    {
     "data": {
      "text/plain": [
       "0       EHQ10C01\n",
       "1       EHQ10C01\n",
       "2       EHQ10C01\n",
       "3       EHQ10C01\n",
       "4       EHQ10C01\n",
       "          ...   \n",
       "5363    EHQ10C08\n",
       "5364    EHQ10C08\n",
       "5365    EHQ10C08\n",
       "5366    EHQ10C08\n",
       "5367    EHQ10C08\n",
       "Name: STATISTIC, Length: 5368, dtype: object"
      ]
     },
     "execution_count": 32,
     "metadata": {},
     "output_type": "execute_result"
    }
   ],
   "source": [
    "df.iloc[:,0]"
   ]
  },
  {
   "cell_type": "code",
   "execution_count": null,
   "id": "1cd292c3",
   "metadata": {},
   "outputs": [],
   "source": []
  },
  {
   "cell_type": "markdown",
   "id": "0bc140d6",
   "metadata": {},
   "source": [
    "UK data"
   ]
  },
  {
   "cell_type": "code",
   "execution_count": null,
   "id": "e10df1b0",
   "metadata": {},
   "outputs": [],
   "source": []
  },
  {
   "cell_type": "code",
   "execution_count": null,
   "id": "9a617ab0",
   "metadata": {},
   "outputs": [],
   "source": []
  },
  {
   "cell_type": "markdown",
   "id": "d4bf1143",
   "metadata": {},
   "source": [
    "## SPAIN"
   ]
  },
  {
   "cell_type": "code",
   "execution_count": 23,
   "id": "b974f937",
   "metadata": {},
   "outputs": [],
   "source": [
    "#!pip install chardet"
   ]
  },
  {
   "cell_type": "code",
   "execution_count": 29,
   "id": "3d86a2b9",
   "metadata": {},
   "outputs": [
    {
     "data": {
      "text/plain": [
       "{'encoding': 'ISO-8859-1', 'confidence': 0.73, 'language': ''}"
      ]
     },
     "execution_count": 29,
     "metadata": {},
     "output_type": "execute_result"
    }
   ],
   "source": [
    "# Checking the encoding type of the file with chardet due to UnicodeDecodeError 'utf-8' \n",
    "import chardet\n",
    "with open('4262bscSPAIN.csv', 'rb') as file: # reading the file in binary mode\n",
    "    raw_data = file.read()\n",
    "\n",
    "chardet.detect(raw_data) #detecting encoding"
   ]
  },
  {
   "cell_type": "code",
   "execution_count": 32,
   "id": "c32dfd60",
   "metadata": {
    "scrolled": true
   },
   "outputs": [
    {
     "data": {
      "text/html": [
       "<div>\n",
       "<style scoped>\n",
       "    .dataframe tbody tr th:only-of-type {\n",
       "        vertical-align: middle;\n",
       "    }\n",
       "\n",
       "    .dataframe tbody tr th {\n",
       "        vertical-align: top;\n",
       "    }\n",
       "\n",
       "    .dataframe thead th {\n",
       "        text-align: right;\n",
       "    }\n",
       "</style>\n",
       "<table border=\"1\" class=\"dataframe\">\n",
       "  <thead>\n",
       "    <tr style=\"text-align: right;\">\n",
       "      <th></th>\n",
       "      <th>Sexo</th>\n",
       "      <th>Comunidades y Ciudades Autónomas</th>\n",
       "      <th>Tipo de sector</th>\n",
       "      <th>Periodo</th>\n",
       "      <th>Total</th>\n",
       "    </tr>\n",
       "  </thead>\n",
       "  <tbody>\n",
       "    <tr>\n",
       "      <th>0</th>\n",
       "      <td>Ambos sexos</td>\n",
       "      <td>Total Nacional</td>\n",
       "      <td>Empleo público</td>\n",
       "      <td>2023T1</td>\n",
       "      <td>3.523,9</td>\n",
       "    </tr>\n",
       "    <tr>\n",
       "      <th>1</th>\n",
       "      <td>Ambos sexos</td>\n",
       "      <td>Total Nacional</td>\n",
       "      <td>Empleo público</td>\n",
       "      <td>2022T4</td>\n",
       "      <td>3.526,2</td>\n",
       "    </tr>\n",
       "    <tr>\n",
       "      <th>2</th>\n",
       "      <td>Ambos sexos</td>\n",
       "      <td>Total Nacional</td>\n",
       "      <td>Empleo público</td>\n",
       "      <td>2022T3</td>\n",
       "      <td>3.506,2</td>\n",
       "    </tr>\n",
       "    <tr>\n",
       "      <th>3</th>\n",
       "      <td>Ambos sexos</td>\n",
       "      <td>Total Nacional</td>\n",
       "      <td>Empleo público</td>\n",
       "      <td>2022T2</td>\n",
       "      <td>3.453,9</td>\n",
       "    </tr>\n",
       "    <tr>\n",
       "      <th>4</th>\n",
       "      <td>Ambos sexos</td>\n",
       "      <td>Total Nacional</td>\n",
       "      <td>Empleo público</td>\n",
       "      <td>2022T1</td>\n",
       "      <td>3.468,2</td>\n",
       "    </tr>\n",
       "    <tr>\n",
       "      <th>...</th>\n",
       "      <td>...</td>\n",
       "      <td>...</td>\n",
       "      <td>...</td>\n",
       "      <td>...</td>\n",
       "      <td>...</td>\n",
       "    </tr>\n",
       "    <tr>\n",
       "      <th>5095</th>\n",
       "      <td>Mujeres</td>\n",
       "      <td>19 Melilla</td>\n",
       "      <td>Empleo público</td>\n",
       "      <td>2003T1</td>\n",
       "      <td>4,3</td>\n",
       "    </tr>\n",
       "    <tr>\n",
       "      <th>5096</th>\n",
       "      <td>Mujeres</td>\n",
       "      <td>19 Melilla</td>\n",
       "      <td>Empleo público</td>\n",
       "      <td>2002T4</td>\n",
       "      <td>4,1</td>\n",
       "    </tr>\n",
       "    <tr>\n",
       "      <th>5097</th>\n",
       "      <td>Mujeres</td>\n",
       "      <td>19 Melilla</td>\n",
       "      <td>Empleo público</td>\n",
       "      <td>2002T3</td>\n",
       "      <td>4,5</td>\n",
       "    </tr>\n",
       "    <tr>\n",
       "      <th>5098</th>\n",
       "      <td>Mujeres</td>\n",
       "      <td>19 Melilla</td>\n",
       "      <td>Empleo público</td>\n",
       "      <td>2002T2</td>\n",
       "      <td>4,0</td>\n",
       "    </tr>\n",
       "    <tr>\n",
       "      <th>5099</th>\n",
       "      <td>Mujeres</td>\n",
       "      <td>19 Melilla</td>\n",
       "      <td>Empleo público</td>\n",
       "      <td>2002T1</td>\n",
       "      <td>3,1</td>\n",
       "    </tr>\n",
       "  </tbody>\n",
       "</table>\n",
       "<p>5100 rows × 5 columns</p>\n",
       "</div>"
      ],
      "text/plain": [
       "             Sexo Comunidades y Ciudades Autónomas  Tipo de sector Periodo  \\\n",
       "0     Ambos sexos                   Total Nacional  Empleo público  2023T1   \n",
       "1     Ambos sexos                   Total Nacional  Empleo público  2022T4   \n",
       "2     Ambos sexos                   Total Nacional  Empleo público  2022T3   \n",
       "3     Ambos sexos                   Total Nacional  Empleo público  2022T2   \n",
       "4     Ambos sexos                   Total Nacional  Empleo público  2022T1   \n",
       "...           ...                              ...             ...     ...   \n",
       "5095      Mujeres                       19 Melilla  Empleo público  2003T1   \n",
       "5096      Mujeres                       19 Melilla  Empleo público  2002T4   \n",
       "5097      Mujeres                       19 Melilla  Empleo público  2002T3   \n",
       "5098      Mujeres                       19 Melilla  Empleo público  2002T2   \n",
       "5099      Mujeres                       19 Melilla  Empleo público  2002T1   \n",
       "\n",
       "        Total  \n",
       "0     3.523,9  \n",
       "1     3.526,2  \n",
       "2     3.506,2  \n",
       "3     3.453,9  \n",
       "4     3.468,2  \n",
       "...       ...  \n",
       "5095      4,3  \n",
       "5096      4,1  \n",
       "5097      4,5  \n",
       "5098      4,0  \n",
       "5099      3,1  \n",
       "\n",
       "[5100 rows x 5 columns]"
      ]
     },
     "execution_count": 32,
     "metadata": {},
     "output_type": "execute_result"
    }
   ],
   "source": [
    "dfSP = pd.read_csv('4262bscSPAIN.csv',encoding=\"ISO-8859-1\",delimiter=';', quotechar='\"') #need to specify delimiter and quotechar, to indicate that the fields containing the delimiter character are quoted with double quotes, like one single string\n",
    "dfSP"
   ]
  },
  {
   "cell_type": "code",
   "execution_count": 33,
   "id": "a13f59f5",
   "metadata": {},
   "outputs": [
    {
     "name": "stdout",
     "output_type": "stream",
     "text": [
      "<class 'pandas.core.frame.DataFrame'>\n",
      "RangeIndex: 5100 entries, 0 to 5099\n",
      "Data columns (total 5 columns):\n",
      " #   Column                            Non-Null Count  Dtype \n",
      "---  ------                            --------------  ----- \n",
      " 0   Sexo                              5100 non-null   object\n",
      " 1   Comunidades y Ciudades Autónomas  5100 non-null   object\n",
      " 2   Tipo de sector                    5100 non-null   object\n",
      " 3   Periodo                           5100 non-null   object\n",
      " 4   Total                             5100 non-null   object\n",
      "dtypes: object(5)\n",
      "memory usage: 199.3+ KB\n"
     ]
    }
   ],
   "source": [
    "dfSP.info()"
   ]
  },
  {
   "cell_type": "code",
   "execution_count": 34,
   "id": "cf627525",
   "metadata": {},
   "outputs": [
    {
     "data": {
      "text/html": [
       "<div>\n",
       "<style scoped>\n",
       "    .dataframe tbody tr th:only-of-type {\n",
       "        vertical-align: middle;\n",
       "    }\n",
       "\n",
       "    .dataframe tbody tr th {\n",
       "        vertical-align: top;\n",
       "    }\n",
       "\n",
       "    .dataframe thead th {\n",
       "        text-align: right;\n",
       "    }\n",
       "</style>\n",
       "<table border=\"1\" class=\"dataframe\">\n",
       "  <thead>\n",
       "    <tr style=\"text-align: right;\">\n",
       "      <th></th>\n",
       "      <th>Sexo</th>\n",
       "      <th>Comunidades y Ciudades Autónomas</th>\n",
       "      <th>Tipo de sector</th>\n",
       "      <th>Periodo</th>\n",
       "      <th>Total</th>\n",
       "    </tr>\n",
       "  </thead>\n",
       "  <tbody>\n",
       "    <tr>\n",
       "      <th>count</th>\n",
       "      <td>5100</td>\n",
       "      <td>5100</td>\n",
       "      <td>5100</td>\n",
       "      <td>5100</td>\n",
       "      <td>5100</td>\n",
       "    </tr>\n",
       "    <tr>\n",
       "      <th>unique</th>\n",
       "      <td>3</td>\n",
       "      <td>20</td>\n",
       "      <td>1</td>\n",
       "      <td>85</td>\n",
       "      <td>2386</td>\n",
       "    </tr>\n",
       "    <tr>\n",
       "      <th>top</th>\n",
       "      <td>Ambos sexos</td>\n",
       "      <td>Total Nacional</td>\n",
       "      <td>Empleo público</td>\n",
       "      <td>2023T1</td>\n",
       "      <td>4,1</td>\n",
       "    </tr>\n",
       "    <tr>\n",
       "      <th>freq</th>\n",
       "      <td>1700</td>\n",
       "      <td>255</td>\n",
       "      <td>5100</td>\n",
       "      <td>60</td>\n",
       "      <td>16</td>\n",
       "    </tr>\n",
       "  </tbody>\n",
       "</table>\n",
       "</div>"
      ],
      "text/plain": [
       "               Sexo Comunidades y Ciudades Autónomas  Tipo de sector Periodo  \\\n",
       "count          5100                             5100            5100    5100   \n",
       "unique            3                               20               1      85   \n",
       "top     Ambos sexos                   Total Nacional  Empleo público  2023T1   \n",
       "freq           1700                              255            5100      60   \n",
       "\n",
       "       Total  \n",
       "count   5100  \n",
       "unique  2386  \n",
       "top      4,1  \n",
       "freq      16  "
      ]
     },
     "execution_count": 34,
     "metadata": {},
     "output_type": "execute_result"
    }
   ],
   "source": [
    "dfSP.describe()"
   ]
  },
  {
   "cell_type": "code",
   "execution_count": null,
   "id": "a4355968",
   "metadata": {},
   "outputs": [],
   "source": []
  }
 ],
 "metadata": {
  "kernelspec": {
   "display_name": "Python 3 (ipykernel)",
   "language": "python",
   "name": "python3"
  },
  "language_info": {
   "codemirror_mode": {
    "name": "ipython",
    "version": 3
   },
   "file_extension": ".py",
   "mimetype": "text/x-python",
   "name": "python",
   "nbconvert_exporter": "python",
   "pygments_lexer": "ipython3",
   "version": "3.9.13"
  }
 },
 "nbformat": 4,
 "nbformat_minor": 5
}
