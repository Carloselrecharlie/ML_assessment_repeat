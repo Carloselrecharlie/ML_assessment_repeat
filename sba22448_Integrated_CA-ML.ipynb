{
 "cells": [
  {
   "cell_type": "code",
   "execution_count": 1,
   "id": "f41d2db9",
   "metadata": {},
   "outputs": [],
   "source": [
    "import pandas as pd\n",
    "import numpy as np\n",
    "import matplotlib as plt"
   ]
  },
  {
   "cell_type": "code",
   "execution_count": 2,
   "id": "1316593a",
   "metadata": {},
   "outputs": [
    {
     "data": {
      "text/html": [
       "<div>\n",
       "<style scoped>\n",
       "    .dataframe tbody tr th:only-of-type {\n",
       "        vertical-align: middle;\n",
       "    }\n",
       "\n",
       "    .dataframe tbody tr th {\n",
       "        vertical-align: top;\n",
       "    }\n",
       "\n",
       "    .dataframe thead th {\n",
       "        text-align: right;\n",
       "    }\n",
       "</style>\n",
       "<table border=\"1\" class=\"dataframe\">\n",
       "  <thead>\n",
       "    <tr style=\"text-align: right;\">\n",
       "      <th></th>\n",
       "      <th>STATISTIC</th>\n",
       "      <th>Statistic Label</th>\n",
       "      <th>TLIST(Q1)</th>\n",
       "      <th>Quarter</th>\n",
       "      <th>C02741V03309</th>\n",
       "      <th>Sub Sector</th>\n",
       "      <th>UNIT</th>\n",
       "      <th>VALUE</th>\n",
       "    </tr>\n",
       "  </thead>\n",
       "  <tbody>\n",
       "    <tr>\n",
       "      <th>0</th>\n",
       "      <td>EHQ10C01</td>\n",
       "      <td>Employment</td>\n",
       "      <td>20081</td>\n",
       "      <td>2008Q1</td>\n",
       "      <td>01</td>\n",
       "      <td>Civil service</td>\n",
       "      <td>Number</td>\n",
       "      <td>41700.00</td>\n",
       "    </tr>\n",
       "    <tr>\n",
       "      <th>1</th>\n",
       "      <td>EHQ10C01</td>\n",
       "      <td>Employment</td>\n",
       "      <td>20081</td>\n",
       "      <td>2008Q1</td>\n",
       "      <td>02</td>\n",
       "      <td>Defence</td>\n",
       "      <td>Number</td>\n",
       "      <td>11200.00</td>\n",
       "    </tr>\n",
       "    <tr>\n",
       "      <th>2</th>\n",
       "      <td>EHQ10C01</td>\n",
       "      <td>Employment</td>\n",
       "      <td>20081</td>\n",
       "      <td>2008Q1</td>\n",
       "      <td>03</td>\n",
       "      <td>Garda Siochana</td>\n",
       "      <td>Number</td>\n",
       "      <td>14900.00</td>\n",
       "    </tr>\n",
       "    <tr>\n",
       "      <th>3</th>\n",
       "      <td>EHQ10C01</td>\n",
       "      <td>Employment</td>\n",
       "      <td>20081</td>\n",
       "      <td>2008Q1</td>\n",
       "      <td>04</td>\n",
       "      <td>Education</td>\n",
       "      <td>Number</td>\n",
       "      <td>116100.00</td>\n",
       "    </tr>\n",
       "    <tr>\n",
       "      <th>4</th>\n",
       "      <td>EHQ10C01</td>\n",
       "      <td>Employment</td>\n",
       "      <td>20081</td>\n",
       "      <td>2008Q1</td>\n",
       "      <td>05</td>\n",
       "      <td>Regional bodies</td>\n",
       "      <td>Number</td>\n",
       "      <td>38900.00</td>\n",
       "    </tr>\n",
       "    <tr>\n",
       "      <th>...</th>\n",
       "      <td>...</td>\n",
       "      <td>...</td>\n",
       "      <td>...</td>\n",
       "      <td>...</td>\n",
       "      <td>...</td>\n",
       "      <td>...</td>\n",
       "      <td>...</td>\n",
       "      <td>...</td>\n",
       "    </tr>\n",
       "    <tr>\n",
       "      <th>5363</th>\n",
       "      <td>EHQ10C08</td>\n",
       "      <td>Average hourly total labour costs</td>\n",
       "      <td>20231</td>\n",
       "      <td>2023Q1</td>\n",
       "      <td>07</td>\n",
       "      <td>Semi-State companies</td>\n",
       "      <td>Euro</td>\n",
       "      <td>37.35</td>\n",
       "    </tr>\n",
       "    <tr>\n",
       "      <th>5364</th>\n",
       "      <td>EHQ10C08</td>\n",
       "      <td>Average hourly total labour costs</td>\n",
       "      <td>20231</td>\n",
       "      <td>2023Q1</td>\n",
       "      <td>09</td>\n",
       "      <td>Commercial Semi-State companies</td>\n",
       "      <td>Euro</td>\n",
       "      <td>37.74</td>\n",
       "    </tr>\n",
       "    <tr>\n",
       "      <th>5365</th>\n",
       "      <td>EHQ10C08</td>\n",
       "      <td>Average hourly total labour costs</td>\n",
       "      <td>20231</td>\n",
       "      <td>2023Q1</td>\n",
       "      <td>10</td>\n",
       "      <td>Non commercial Semi-State companies</td>\n",
       "      <td>Euro</td>\n",
       "      <td>36.47</td>\n",
       "    </tr>\n",
       "    <tr>\n",
       "      <th>5366</th>\n",
       "      <td>EHQ10C08</td>\n",
       "      <td>Average hourly total labour costs</td>\n",
       "      <td>20231</td>\n",
       "      <td>2023Q1</td>\n",
       "      <td>-</td>\n",
       "      <td>Total Public Sector including Semi State bodies</td>\n",
       "      <td>Euro</td>\n",
       "      <td>37.64</td>\n",
       "    </tr>\n",
       "    <tr>\n",
       "      <th>5367</th>\n",
       "      <td>EHQ10C08</td>\n",
       "      <td>Average hourly total labour costs</td>\n",
       "      <td>20231</td>\n",
       "      <td>2023Q1</td>\n",
       "      <td>08</td>\n",
       "      <td>Total Public Sector excluding Semi State bodies</td>\n",
       "      <td>Euro</td>\n",
       "      <td>37.68</td>\n",
       "    </tr>\n",
       "  </tbody>\n",
       "</table>\n",
       "<p>5368 rows × 8 columns</p>\n",
       "</div>"
      ],
      "text/plain": [
       "     STATISTIC                    Statistic Label  TLIST(Q1) Quarter  \\\n",
       "0     EHQ10C01                         Employment      20081  2008Q1   \n",
       "1     EHQ10C01                         Employment      20081  2008Q1   \n",
       "2     EHQ10C01                         Employment      20081  2008Q1   \n",
       "3     EHQ10C01                         Employment      20081  2008Q1   \n",
       "4     EHQ10C01                         Employment      20081  2008Q1   \n",
       "...        ...                                ...        ...     ...   \n",
       "5363  EHQ10C08  Average hourly total labour costs      20231  2023Q1   \n",
       "5364  EHQ10C08  Average hourly total labour costs      20231  2023Q1   \n",
       "5365  EHQ10C08  Average hourly total labour costs      20231  2023Q1   \n",
       "5366  EHQ10C08  Average hourly total labour costs      20231  2023Q1   \n",
       "5367  EHQ10C08  Average hourly total labour costs      20231  2023Q1   \n",
       "\n",
       "     C02741V03309                                       Sub Sector    UNIT  \\\n",
       "0              01                                    Civil service  Number   \n",
       "1              02                                          Defence  Number   \n",
       "2              03                                   Garda Siochana  Number   \n",
       "3              04                                        Education  Number   \n",
       "4              05                                  Regional bodies  Number   \n",
       "...           ...                                              ...     ...   \n",
       "5363           07                             Semi-State companies    Euro   \n",
       "5364           09                  Commercial Semi-State companies    Euro   \n",
       "5365           10              Non commercial Semi-State companies    Euro   \n",
       "5366            -  Total Public Sector including Semi State bodies    Euro   \n",
       "5367           08  Total Public Sector excluding Semi State bodies    Euro   \n",
       "\n",
       "          VALUE  \n",
       "0      41700.00  \n",
       "1      11200.00  \n",
       "2      14900.00  \n",
       "3     116100.00  \n",
       "4      38900.00  \n",
       "...         ...  \n",
       "5363      37.35  \n",
       "5364      37.74  \n",
       "5365      36.47  \n",
       "5366      37.64  \n",
       "5367      37.68  \n",
       "\n",
       "[5368 rows x 8 columns]"
      ]
     },
     "execution_count": 2,
     "metadata": {},
     "output_type": "execute_result"
    }
   ],
   "source": [
    "df = pd.read_csv('https://ws.cso.ie/public/api.restful/PxStat.Data.Cube_API.ReadDataset/EHQ10/CSV/1.0/en')\n",
    "df"
   ]
  },
  {
   "cell_type": "code",
   "execution_count": 3,
   "id": "5da94593",
   "metadata": {},
   "outputs": [
    {
     "name": "stdout",
     "output_type": "stream",
     "text": [
      "<class 'pandas.core.frame.DataFrame'>\n",
      "RangeIndex: 5368 entries, 0 to 5367\n",
      "Data columns (total 8 columns):\n",
      " #   Column           Non-Null Count  Dtype  \n",
      "---  ------           --------------  -----  \n",
      " 0   STATISTIC        5368 non-null   object \n",
      " 1   Statistic Label  5368 non-null   object \n",
      " 2   TLIST(Q1)        5368 non-null   int64  \n",
      " 3   Quarter          5368 non-null   object \n",
      " 4   C02741V03309     5368 non-null   object \n",
      " 5   Sub Sector       5368 non-null   object \n",
      " 6   UNIT             5368 non-null   object \n",
      " 7   VALUE            5368 non-null   float64\n",
      "dtypes: float64(1), int64(1), object(6)\n",
      "memory usage: 335.6+ KB\n"
     ]
    }
   ],
   "source": [
    "df.info()"
   ]
  },
  {
   "cell_type": "code",
   "execution_count": 9,
   "id": "add11880",
   "metadata": {},
   "outputs": [
    {
     "data": {
      "text/plain": [
       "array(['Employment', 'Average Weekly Earnings', 'Average Hourly Earnings',\n",
       "       'Average Hourly Earnings excluding Irregular Earnings',\n",
       "       'Average Weekly Paid Hours', 'Average hourly irregular earnings',\n",
       "       'Average hourly other labour costs',\n",
       "       'Average hourly total labour costs'], dtype=object)"
      ]
     },
     "execution_count": 9,
     "metadata": {},
     "output_type": "execute_result"
    }
   ],
   "source": [
    "df['Statistic Label'].unique()"
   ]
  },
  {
   "cell_type": "code",
   "execution_count": 11,
   "id": "022e6b15",
   "metadata": {},
   "outputs": [
    {
     "data": {
      "text/plain": [
       "array([20081, 20082, 20083, 20084, 20091, 20092, 20093, 20094, 20101,\n",
       "       20102, 20103, 20104, 20111, 20112, 20113, 20114, 20121, 20122,\n",
       "       20123, 20124, 20131, 20132, 20133, 20134, 20141, 20142, 20143,\n",
       "       20144, 20151, 20152, 20153, 20154, 20161, 20162, 20163, 20164,\n",
       "       20171, 20172, 20173, 20174, 20181, 20182, 20183, 20184, 20191,\n",
       "       20192, 20193, 20194, 20201, 20202, 20203, 20204, 20211, 20212,\n",
       "       20213, 20214, 20221, 20222, 20223, 20224, 20231], dtype=int64)"
      ]
     },
     "execution_count": 11,
     "metadata": {},
     "output_type": "execute_result"
    }
   ],
   "source": [
    "df['TLIST(Q1)'].unique()"
   ]
  },
  {
   "cell_type": "code",
   "execution_count": 12,
   "id": "67abf53b",
   "metadata": {},
   "outputs": [
    {
     "data": {
      "text/plain": [
       "array(['01', '02', '03', '04', '05', '06', '07', '09', '10', '-', '08'],\n",
       "      dtype=object)"
      ]
     },
     "execution_count": 12,
     "metadata": {},
     "output_type": "execute_result"
    }
   ],
   "source": [
    "df['C02741V03309'].unique()"
   ]
  },
  {
   "cell_type": "code",
   "execution_count": 13,
   "id": "5eb5786c",
   "metadata": {},
   "outputs": [
    {
     "data": {
      "text/plain": [
       "array(['Civil service', 'Defence', 'Garda Siochana', 'Education',\n",
       "       'Regional bodies', 'Health', 'Semi-State companies',\n",
       "       'Commercial Semi-State companies',\n",
       "       'Non commercial Semi-State companies',\n",
       "       'Total Public Sector including Semi State bodies',\n",
       "       'Total Public Sector excluding Semi State bodies'], dtype=object)"
      ]
     },
     "execution_count": 13,
     "metadata": {},
     "output_type": "execute_result"
    }
   ],
   "source": [
    "df['Sub Sector'].unique()"
   ]
  },
  {
   "cell_type": "code",
   "execution_count": 34,
   "id": "741db7bc",
   "metadata": {},
   "outputs": [
    {
     "data": {
      "text/plain": [
       "array(['Number', 'Euro', 'Hours'], dtype=object)"
      ]
     },
     "execution_count": 34,
     "metadata": {},
     "output_type": "execute_result"
    }
   ],
   "source": [
    "df['UNIT'].unique()"
   ]
  },
  {
   "cell_type": "code",
   "execution_count": 35,
   "id": "b3b09ddf",
   "metadata": {},
   "outputs": [
    {
     "data": {
      "text/plain": [
       "array([4.170e+04, 1.120e+04, 1.490e+04, ..., 3.774e+01, 3.764e+01,\n",
       "       3.768e+01])"
      ]
     },
     "execution_count": 35,
     "metadata": {},
     "output_type": "execute_result"
    }
   ],
   "source": [
    "df['VALUE'].unique()"
   ]
  },
  {
   "cell_type": "code",
   "execution_count": 36,
   "id": "bfa0b8e9",
   "metadata": {},
   "outputs": [
    {
     "data": {
      "text/html": [
       "<div>\n",
       "<style scoped>\n",
       "    .dataframe tbody tr th:only-of-type {\n",
       "        vertical-align: middle;\n",
       "    }\n",
       "\n",
       "    .dataframe tbody tr th {\n",
       "        vertical-align: top;\n",
       "    }\n",
       "\n",
       "    .dataframe thead th {\n",
       "        text-align: right;\n",
       "    }\n",
       "</style>\n",
       "<table border=\"1\" class=\"dataframe\">\n",
       "  <thead>\n",
       "    <tr style=\"text-align: right;\">\n",
       "      <th></th>\n",
       "      <th>TLIST(Q1)</th>\n",
       "      <th>VALUE</th>\n",
       "    </tr>\n",
       "  </thead>\n",
       "  <tbody>\n",
       "    <tr>\n",
       "      <th>count</th>\n",
       "      <td>5368.000000</td>\n",
       "      <td>5368.000000</td>\n",
       "    </tr>\n",
       "    <tr>\n",
       "      <th>mean</th>\n",
       "      <td>20153.786885</td>\n",
       "      <td>13814.342345</td>\n",
       "    </tr>\n",
       "    <tr>\n",
       "      <th>std</th>\n",
       "      <td>44.011593</td>\n",
       "      <td>58776.196299</td>\n",
       "    </tr>\n",
       "    <tr>\n",
       "      <th>min</th>\n",
       "      <td>20081.000000</td>\n",
       "      <td>0.090000</td>\n",
       "    </tr>\n",
       "    <tr>\n",
       "      <th>25%</th>\n",
       "      <td>20114.000000</td>\n",
       "      <td>18.382500</td>\n",
       "    </tr>\n",
       "    <tr>\n",
       "      <th>50%</th>\n",
       "      <td>20153.000000</td>\n",
       "      <td>29.825000</td>\n",
       "    </tr>\n",
       "    <tr>\n",
       "      <th>75%</th>\n",
       "      <td>20192.000000</td>\n",
       "      <td>238.287500</td>\n",
       "    </tr>\n",
       "    <tr>\n",
       "      <th>max</th>\n",
       "      <td>20231.000000</td>\n",
       "      <td>450000.000000</td>\n",
       "    </tr>\n",
       "  </tbody>\n",
       "</table>\n",
       "</div>"
      ],
      "text/plain": [
       "          TLIST(Q1)          VALUE\n",
       "count   5368.000000    5368.000000\n",
       "mean   20153.786885   13814.342345\n",
       "std       44.011593   58776.196299\n",
       "min    20081.000000       0.090000\n",
       "25%    20114.000000      18.382500\n",
       "50%    20153.000000      29.825000\n",
       "75%    20192.000000     238.287500\n",
       "max    20231.000000  450000.000000"
      ]
     },
     "execution_count": 36,
     "metadata": {},
     "output_type": "execute_result"
    }
   ],
   "source": [
    "df.describe()"
   ]
  },
  {
   "cell_type": "code",
   "execution_count": 41,
   "id": "3ec415fd",
   "metadata": {},
   "outputs": [
    {
     "data": {
      "text/html": [
       "<div>\n",
       "<style scoped>\n",
       "    .dataframe tbody tr th:only-of-type {\n",
       "        vertical-align: middle;\n",
       "    }\n",
       "\n",
       "    .dataframe tbody tr th {\n",
       "        vertical-align: top;\n",
       "    }\n",
       "\n",
       "    .dataframe thead th {\n",
       "        text-align: right;\n",
       "    }\n",
       "</style>\n",
       "<table border=\"1\" class=\"dataframe\">\n",
       "  <thead>\n",
       "    <tr style=\"text-align: right;\">\n",
       "      <th></th>\n",
       "      <th>STATISTIC</th>\n",
       "      <th>Statistic Label</th>\n",
       "      <th>Quarter</th>\n",
       "      <th>C02741V03309</th>\n",
       "      <th>Sub Sector</th>\n",
       "      <th>UNIT</th>\n",
       "    </tr>\n",
       "  </thead>\n",
       "  <tbody>\n",
       "    <tr>\n",
       "      <th>count</th>\n",
       "      <td>5368</td>\n",
       "      <td>5368</td>\n",
       "      <td>5368</td>\n",
       "      <td>5368</td>\n",
       "      <td>5368</td>\n",
       "      <td>5368</td>\n",
       "    </tr>\n",
       "    <tr>\n",
       "      <th>unique</th>\n",
       "      <td>8</td>\n",
       "      <td>8</td>\n",
       "      <td>61</td>\n",
       "      <td>11</td>\n",
       "      <td>11</td>\n",
       "      <td>3</td>\n",
       "    </tr>\n",
       "    <tr>\n",
       "      <th>top</th>\n",
       "      <td>EHQ10C01</td>\n",
       "      <td>Employment</td>\n",
       "      <td>2008Q1</td>\n",
       "      <td>01</td>\n",
       "      <td>Civil service</td>\n",
       "      <td>Euro</td>\n",
       "    </tr>\n",
       "    <tr>\n",
       "      <th>freq</th>\n",
       "      <td>671</td>\n",
       "      <td>671</td>\n",
       "      <td>88</td>\n",
       "      <td>488</td>\n",
       "      <td>488</td>\n",
       "      <td>4026</td>\n",
       "    </tr>\n",
       "  </tbody>\n",
       "</table>\n",
       "</div>"
      ],
      "text/plain": [
       "       STATISTIC Statistic Label Quarter C02741V03309     Sub Sector  UNIT\n",
       "count       5368            5368    5368         5368           5368  5368\n",
       "unique         8               8      61           11             11     3\n",
       "top     EHQ10C01      Employment  2008Q1           01  Civil service  Euro\n",
       "freq         671             671      88          488            488  4026"
      ]
     },
     "execution_count": 41,
     "metadata": {},
     "output_type": "execute_result"
    }
   ],
   "source": [
    "df.describe(include='object')"
   ]
  },
  {
   "cell_type": "code",
   "execution_count": 32,
   "id": "ea6c06f6",
   "metadata": {},
   "outputs": [
    {
     "data": {
      "text/plain": [
       "0       EHQ10C01\n",
       "1       EHQ10C01\n",
       "2       EHQ10C01\n",
       "3       EHQ10C01\n",
       "4       EHQ10C01\n",
       "          ...   \n",
       "5363    EHQ10C08\n",
       "5364    EHQ10C08\n",
       "5365    EHQ10C08\n",
       "5366    EHQ10C08\n",
       "5367    EHQ10C08\n",
       "Name: STATISTIC, Length: 5368, dtype: object"
      ]
     },
     "execution_count": 32,
     "metadata": {},
     "output_type": "execute_result"
    }
   ],
   "source": [
    "df.iloc[:,0]"
   ]
  },
  {
   "cell_type": "code",
   "execution_count": null,
   "id": "1cd292c3",
   "metadata": {},
   "outputs": [],
   "source": []
  }
 ],
 "metadata": {
  "kernelspec": {
   "display_name": "Python 3 (ipykernel)",
   "language": "python",
   "name": "python3"
  },
  "language_info": {
   "codemirror_mode": {
    "name": "ipython",
    "version": 3
   },
   "file_extension": ".py",
   "mimetype": "text/x-python",
   "name": "python",
   "nbconvert_exporter": "python",
   "pygments_lexer": "ipython3",
   "version": "3.9.13"
  }
 },
 "nbformat": 4,
 "nbformat_minor": 5
}
